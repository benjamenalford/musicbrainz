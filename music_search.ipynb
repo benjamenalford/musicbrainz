{
 "cells": [
  {
   "cell_type": "code",
   "execution_count": 21,
   "metadata": {},
   "outputs": [],
   "source": [
    "import pandas as pd\n",
    "import requests "
   ]
  },
  {
   "cell_type": "code",
   "execution_count": 22,
   "metadata": {},
   "outputs": [],
   "source": [
    "#read in a list of artist to gather information about\n",
    "artist_df = pd.read_csv('music.csv')"
   ]
  },
  {
   "cell_type": "code",
   "execution_count": 41,
   "metadata": {},
   "outputs": [],
   "source": [
    "#create an empty list to hold the data\n",
    "artist_info_list = []\n",
    "# loop through the DF to search for data\n",
    "for index,row in artist_df.iterrows():\n",
    "    artist_name  = row['artist']\n",
    "    #build the query URL\n",
    "    query_url = f'http://musicbrainz.org/ws/2/artist/?query=name:{artist_name}&inc=aliases&fmt=json'\n",
    "    response = requests.get(query_url).json()\n",
    "    #build a blank dictionary to hold data about the artist\n",
    "    #creating with empty fields so even if the data doesn't exist , the ending data is consistent\n",
    "    artist_info = {\n",
    "        'artist': artist_name,\n",
    "        'city': '',\n",
    "        'started':'',\n",
    "        'ended':'',\n",
    "        'desc':'',\n",
    "        'id':''\n",
    "    }\n",
    "    #assume the first result is the correct one\n",
    "    artist = response['artists'][0]\n",
    "    #save the musicbrainz artist id for future use\n",
    "    artist_info['id'] = artist['id']\n",
    "    # using try  / except on each field to populate the template dictionary\n",
    "    try:\n",
    "        artist_info['city']  = artist['begin-area']['name']\n",
    "    except:\n",
    "        pass\n",
    "    try:\n",
    "        artist_info['started'] = artist['life-span']['begin']\n",
    "    except:\n",
    "        pass\n",
    "    try:\n",
    "        artist_info['ended'] = artist['life-span']['end']\n",
    "    except:\n",
    "        pass\n",
    "    try:\n",
    "        artist_info['desc'] = artist['disambiguation']\n",
    "    except:\n",
    "        pass\n",
    "    #append to the master list\n",
    "    artist_info_list.append(artist_info)"
   ]
  },
  {
   "cell_type": "code",
   "execution_count": 57,
   "metadata": {},
   "outputs": [],
   "source": [
    "#create a dataframe from the list of information gathered\n",
    "artist_df = pd.DataFrame(artist_info_list)"
   ]
  },
  {
   "cell_type": "code",
   "execution_count": 73,
   "metadata": {},
   "outputs": [],
   "source": [
    "#Using the data we gathered, I want to know every release by each artist\n",
    "#calling another API endpoint to populate a new DF using the same pattern as before\n",
    "release_list = []\n",
    "for index,row in artist_df.iterrows():\n",
    "    #using the saved artist id from the last DF to get album release info\n",
    "    release_url = f\"https://musicbrainz.org/ws/2/release/?query=arid:{row['id']}&fmt=json\"\n",
    "    response = requests.get(release_url).json()\n",
    "    releases = response['releases']\n",
    "    #loop through all releases to build the release list\n",
    "    for release in releases:\n",
    "        #using a blanket try/catch , if any of these fields are missing I don't want it in my results\n",
    "        try:\n",
    "            release_dict = {\n",
    "            'artist': row['artist'],\n",
    "            'title' : release['title'],\n",
    "            'tracks' : release['track-count'],\n",
    "            'date' : release['date']\n",
    "            }\n",
    "            release_list.append(release_dict)\n",
    "        except:\n",
    "            pass\n",
    "        "
   ]
  },
  {
   "cell_type": "code",
   "execution_count": 76,
   "metadata": {},
   "outputs": [],
   "source": [
    "#create a dataframe for the releases\n",
    "releases_df = pd.DataFrame(release_list)"
   ]
  },
  {
   "cell_type": "code",
   "execution_count": 79,
   "metadata": {},
   "outputs": [],
   "source": [
    "#set the index for both dataframes to be the artist name\n",
    "releases_df = releases_df.set_index('artist')\n",
    "artist_df = artist_df.set_index('artist')"
   ]
  },
  {
   "cell_type": "code",
   "execution_count": 83,
   "metadata": {},
   "outputs": [],
   "source": [
    "#merge / inner join the two dataframes together to build a flattened dataframe with all of the information collected, joined on the indexes\n",
    "final_final_df = pd.merge(releases_df,artist_df,left_index=True, right_index=True)"
   ]
  },
  {
   "cell_type": "code",
   "execution_count": 84,
   "metadata": {},
   "outputs": [],
   "source": [
    "#save to a csv for importing into a database\n",
    "final_final_df.to_csv('artist_info.csv')"
   ]
  },
  {
   "cell_type": "code",
   "execution_count": null,
   "metadata": {},
   "outputs": [],
   "source": [
    "#stay tuned for part 2, the importing into postgres and cleaning the data in SQL"
   ]
  }
 ],
 "metadata": {
  "kernelspec": {
   "display_name": "Python 3 (ipykernel)",
   "language": "python",
   "name": "python3"
  },
  "language_info": {
   "codemirror_mode": {
    "name": "ipython",
    "version": 3
   },
   "file_extension": ".py",
   "mimetype": "text/x-python",
   "name": "python",
   "nbconvert_exporter": "python",
   "pygments_lexer": "ipython3",
   "version": "3.8.2"
  }
 },
 "nbformat": 4,
 "nbformat_minor": 4
}
