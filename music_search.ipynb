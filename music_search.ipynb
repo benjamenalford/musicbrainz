{
 "cells": [
  {
   "cell_type": "code",
   "execution_count": 21,
   "metadata": {},
   "outputs": [],
   "source": [
    "import pandas as pd\n",
    "import requests "
   ]
  },
  {
   "cell_type": "code",
   "execution_count": 22,
   "metadata": {},
   "outputs": [],
   "source": [
    "artist_df = pd.read_csv('music.csv')"
   ]
  },
  {
   "cell_type": "code",
   "execution_count": 41,
   "metadata": {},
   "outputs": [],
   "source": [
    "artist_info_list = []\n",
    "for index,row in artist_df.iterrows():\n",
    "    artist_name  = row['artist']\n",
    "    query_url = f'http://musicbrainz.org/ws/2/artist/?query=name:{artist_name}&inc=aliases&fmt=json'\n",
    "    response = requests.get(query_url).json()\n",
    "    artist_info = {\n",
    "        'artist': artist_name,\n",
    "        'city': '',\n",
    "        'started':'',\n",
    "        'ended':'',\n",
    "        'desc':'',\n",
    "        'id':''\n",
    "    }\n",
    "    artist = response['artists'][0]\n",
    "    artist_info['id'] = artist['id']\n",
    "    try:\n",
    "        artist_info['city']  = artist['begin-area']['name']\n",
    "    except:\n",
    "        pass\n",
    "    try:\n",
    "        artist_info['started'] = artist['life-span']['begin']\n",
    "    except:\n",
    "        pass\n",
    "    try:\n",
    "        artist_info['ended'] = artist['life-span']['end']\n",
    "    except:\n",
    "        pass\n",
    "    try:\n",
    "        artist_info['desc'] = artist['disambiguation']\n",
    "    except:\n",
    "        pass\n",
    "    artist_info_list.append(artist_info)"
   ]
  },
  {
   "cell_type": "code",
   "execution_count": 57,
   "metadata": {},
   "outputs": [],
   "source": [
    "artist_df = pd.DataFrame(artist_info_list)"
   ]
  },
  {
   "cell_type": "code",
   "execution_count": 73,
   "metadata": {},
   "outputs": [],
   "source": [
    "release_list = []\n",
    "for index,row in artist_df.iterrows():\n",
    "    release_url = f\"https://musicbrainz.org/ws/2/release/?query=arid:{row['id']}&fmt=json\"\n",
    "    response = requests.get(release_url).json()\n",
    "    releases = response['releases']\n",
    "    for release in releases:\n",
    "        try:\n",
    "            release_dict = {\n",
    "            'artist': row['artist'],\n",
    "            'title' : release['title'],\n",
    "            'tracks' : release['track-count'],\n",
    "            'date' : release['date']\n",
    "            }\n",
    "            release_list.append(release_dict)\n",
    "        except:\n",
    "            pass\n",
    "        "
   ]
  },
  {
   "cell_type": "code",
   "execution_count": 76,
   "metadata": {},
   "outputs": [],
   "source": [
    "releases_df = pd.DataFrame(release_list)"
   ]
  },
  {
   "cell_type": "code",
   "execution_count": 79,
   "metadata": {},
   "outputs": [],
   "source": [
    "releases_df = releases_df.set_index('artist')\n",
    "artist_df = artist_df.set_index('artist')"
   ]
  },
  {
   "cell_type": "code",
   "execution_count": 83,
   "metadata": {},
   "outputs": [],
   "source": [
    "final_final_df = pd.merge(releases_df,artist_df,left_index=True, right_index=True)"
   ]
  },
  {
   "cell_type": "code",
   "execution_count": 84,
   "metadata": {},
   "outputs": [],
   "source": [
    "final_final_df.to_csv('artist_info.csv')"
   ]
  },
  {
   "cell_type": "code",
   "execution_count": null,
   "metadata": {},
   "outputs": [],
   "source": []
  }
 ],
 "metadata": {
  "kernelspec": {
   "display_name": "Python 3 (ipykernel)",
   "language": "python",
   "name": "python3"
  },
  "language_info": {
   "codemirror_mode": {
    "name": "ipython",
    "version": 3
   },
   "file_extension": ".py",
   "mimetype": "text/x-python",
   "name": "python",
   "nbconvert_exporter": "python",
   "pygments_lexer": "ipython3",
   "version": "3.8.2"
  }
 },
 "nbformat": 4,
 "nbformat_minor": 4
}
